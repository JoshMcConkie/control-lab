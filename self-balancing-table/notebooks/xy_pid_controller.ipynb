{
  "nbformat": 4,
  "nbformat_minor": 0,
  "metadata": {
    "colab": {
      "provenance": [],
      "authorship_tag": "ABX9TyPVgNqM9ekRoBryZ4b2i5ip",
      "include_colab_link": true
    },
    "kernelspec": {
      "name": "python3",
      "display_name": "Python 3"
    },
    "language_info": {
      "name": "python"
    }
  },
  "cells": [
    {
      "cell_type": "markdown",
      "metadata": {
        "id": "view-in-github",
        "colab_type": "text"
      },
      "source": [
        "<a href=\"https://colab.research.google.com/github/JoshMcConkie/control-lab/blob/main/self-balance-table/XY_PID_controller.ipynb\" target=\"_parent\"><img src=\"https://colab.research.google.com/assets/colab-badge.svg\" alt=\"Open In Colab\"/></a>"
      ]
    },
    {
      "cell_type": "code",
      "source": [
        "import numpy as np"
      ],
      "metadata": {
        "id": "W46Or3QAHEAz"
      },
      "execution_count": 2,
      "outputs": []
    },
    {
      "cell_type": "code",
      "source": [
        "\n",
        "K = np.array([1,0,.2]) # PID Gains\n",
        "\n",
        "G = np.array([0.0,0.0])\n",
        "X = np.array([-1.0,1.0])\n",
        "E_1 = np.array([0.0,0.0])\n",
        "iE = np.array([0.0,0.0])\n",
        "rolling = True\n",
        "\n",
        "while rolling:\n",
        "  X = get_position()\n",
        "  E = G - X\n",
        "  dE = E - E_1\n",
        "  iE += E\n",
        "\n",
        "  S = np.array([E,iE,dE]).T@K # Control Signal\n",
        "\n",
        "  send(S)\n",
        "  E_1 = E"
      ],
      "metadata": {
        "colab": {
          "base_uri": "https://localhost:8080/",
          "height": 108
        },
        "id": "bT3UXZ6bDNEg",
        "outputId": "4f4a5aff-640f-49d0-a344-1412c463fa2c"
      },
      "execution_count": 1,
      "outputs": [
        {
          "output_type": "error",
          "ename": "SyntaxError",
          "evalue": "invalid syntax (ipython-input-350463348.py, line 4)",
          "traceback": [
            "\u001b[0;36m  File \u001b[0;32m\"/tmp/ipython-input-350463348.py\"\u001b[0;36m, line \u001b[0;32m4\u001b[0m\n\u001b[0;31m    get the x,y position\u001b[0m\n\u001b[0m        ^\u001b[0m\n\u001b[0;31mSyntaxError\u001b[0m\u001b[0;31m:\u001b[0m invalid syntax\n"
          ]
        }
      ]
    },
    {
      "cell_type": "markdown",
      "source": [
        "method 2\n",
        "\n"
      ],
      "metadata": {
        "id": "h4HXIBsfDuE9"
      }
    },
    {
      "cell_type": "code",
      "source": [
        "get x,y\n",
        "\n",
        "calculate acceleration of ball\n",
        "calc normal force necessary to stop the ball\n"
      ],
      "metadata": {
        "id": "K5EEa9wkDwy-"
      },
      "execution_count": null,
      "outputs": []
    }
  ]
}